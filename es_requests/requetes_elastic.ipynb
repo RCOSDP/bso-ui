{
 "cells": [
  {
   "cell_type": "code",
   "execution_count": null,
   "metadata": {},
   "outputs": [],
   "source": [
    "import requests"
   ]
  },
  {
   "cell_type": "code",
   "execution_count": null,
   "metadata": {},
   "outputs": [],
   "source": [
    "url = \"https://cluster.elasticsearch.dataesr.ovh/bsso-publications/_search\""
   ]
  },
  {
   "cell_type": "code",
   "execution_count": null,
   "metadata": {},
   "outputs": [],
   "source": [
    "header= {\"authorization\": open(\"../../.env_es_bsso\", \"r\").read().strip() }\n",
    "AGG_SIZE = 15"
   ]
  },
  {
   "cell_type": "markdown",
   "metadata": {},
   "source": [
    "### Sommaire\n",
    "\n",
    "* [Publications](#publications)\n",
    "    * [Général](#publi_general)\n",
    "        * [Dynamique d'ouverture](#dynamique_ouverture)\n",
    "        * [Voies d'ouverture](#voie_ouverture)\n",
    "        * [Genre](#genre)\n",
    "        * [Langue](#langue)\n",
    "        * [Financement](#financement)\n",
    "        * [COI](#coi)\n",
    "    * [Discipline](#publi_disciplines)\n",
    "        * [Dynamique d'ouverture par discipline](#dynamique_ouverture_disciplines)\n",
    "        * [Voies d'ouverture par discipline](#voie_ouverture_disciplines)\n",
    "    * [Editeurs](#publi_editeurs)\n",
    "        * [Dynamique d'ouverture pour editeur](#dynamique_ouverture_editeurs)\n",
    "        * [Voies d'ouverture par discipline](#voie_ouverture_editeurs)\n",
    "        * [Politique d'ouverture par discipline](#politique_ouverture_editeurs)\n",
    "        * [Poids des revues prédatrices](#predateur)\n",
    "        * [Répartition par licence ouverte](#licence)\n",
    "        * [APC](#apc)\n",
    "     \n"
   ]
  },
  {
   "cell_type": "markdown",
   "metadata": {},
   "source": [
    "# 1. Publications <a class=\"anchor\" id=\"publications\"></a>"
   ]
  },
  {
   "cell_type": "markdown",
   "metadata": {},
   "source": [
    "## 1.1 Général <a class=\"anchor\" id=\"publi_general\"></a>"
   ]
  },
  {
   "cell_type": "markdown",
   "metadata": {},
   "source": [
    "### 1.1.1 Dynamique d'ouverture (2 graphes, barres et lignes) <a class=\"anchor\" id=\"dynamique_ouverture\"></a>"
   ]
  },
  {
   "cell_type": "code",
   "execution_count": null,
   "metadata": {},
   "outputs": [],
   "source": [
    "year = \"2021Q1\" # et aussi tous les \"millésimes\" 2018, 2019, 2020\n",
    "params = {\n",
    "  \"aggs\": {\n",
    "    \"by_publication_year\": {\n",
    "      \"terms\": {\n",
    "        \"field\": \"publication_year\"\n",
    "      },\n",
    "      \"aggs\": {\n",
    "        \"by_is_oa\": {\n",
    "          \"terms\": {\n",
    "            \"field\": \"oa_details.\" + year + \".is_oa\"\n",
    "          }\n",
    "        }\n",
    "      }\n",
    "    }\n",
    "  }\n",
    "}\n",
    "\n",
    "requests.get(url, json=params, headers=header).json()['aggregations']"
   ]
  },
  {
   "cell_type": "markdown",
   "metadata": {},
   "source": [
    "### 1.1.2 Voies d'ouverture <a class=\"anchor\" id=\"voie_ouverture\"></a>"
   ]
  },
  {
   "cell_type": "code",
   "execution_count": null,
   "metadata": {},
   "outputs": [],
   "source": [
    "year = \"2021Q1\" # et aussi tous les \"millésimes\" 2018, 2019, 2020\n",
    "params = {\n",
    "  \"aggs\": {\n",
    "    \"by_publication_year\": {\n",
    "      \"terms\": {\n",
    "        \"field\": \"publication_year\"\n",
    "      },\n",
    "      \"aggs\": {\n",
    "        \"by_oa_host_type\": {\n",
    "          \"terms\": {\n",
    "            \"field\": \"oa_details.\" + year + \".oa_host_type.keyword\"\n",
    "          }\n",
    "        }\n",
    "      }\n",
    "    }\n",
    "  }\n",
    "}\n",
    "\n",
    "requests.get(url, json=params, headers=header).json()['aggregations']"
   ]
  },
  {
   "cell_type": "markdown",
   "metadata": {},
   "source": [
    "### 1.1.3 Genre de publications <a class=\"anchor\" id=\"genre\"></a>"
   ]
  },
  {
   "cell_type": "code",
   "execution_count": null,
   "metadata": {},
   "outputs": [],
   "source": [
    "year = \"2021Q1\" # latest\n",
    "params = {\n",
    "  \"aggs\": {\n",
    "    \"by_publication_genre\": {\n",
    "      \"terms\": {\n",
    "        \"field\": \"genre.keyword\"\n",
    "      },\n",
    "      \"aggs\": {\n",
    "        \"by_is_oa\": {\n",
    "          \"terms\": {\n",
    "            \"field\": \"oa_details.\" + year + \".is_oa\"\n",
    "          }\n",
    "        }\n",
    "      }\n",
    "    }\n",
    "  }\n",
    "}\n",
    "\n",
    "requests.get(url, json=params, headers=header).json()['aggregations']"
   ]
  },
  {
   "cell_type": "markdown",
   "metadata": {},
   "source": [
    "### 1.1.4 Langue <a class=\"anchor\" id=\"langue\"></a>"
   ]
  },
  {
   "cell_type": "code",
   "execution_count": null,
   "metadata": {},
   "outputs": [],
   "source": [
    "year = \"2021Q1\" #latest\n",
    "params = {\n",
    "  \"aggs\": {\n",
    "    \"by_publication_genre\": {\n",
    "      \"terms\": {\n",
    "        \"field\": \"language.keyword\"\n",
    "      },\n",
    "      \"aggs\": {\n",
    "        \"by_is_oa\": {\n",
    "          \"terms\": {\n",
    "            \"field\": \"oa_details.\" + year + \".is_oa\"\n",
    "          }\n",
    "        }\n",
    "      }\n",
    "    }\n",
    "  }\n",
    "}\n",
    "\n",
    "requests.get(url, json=params, headers=header).json()['aggregations']"
   ]
  },
  {
   "cell_type": "markdown",
   "metadata": {},
   "source": [
    "### 1.1.6 Déclaration de financement <a class=\"anchor\" id=\"financement\"></a>"
   ]
  },
  {
   "cell_type": "markdown",
   "metadata": {},
   "source": [
    "barres"
   ]
  },
  {
   "cell_type": "code",
   "execution_count": null,
   "metadata": {},
   "outputs": [],
   "source": [
    "year = \"2021Q1\" #latest\n",
    "params = {\n",
    "  \"aggs\": {\n",
    "    \"by_publication_year\": {\n",
    "      \"terms\": {\n",
    "        \"field\": \"publication_year\"\n",
    "      },\n",
    "      \"aggs\": {\n",
    "        \"by_is_oa\": {\n",
    "          \"terms\": {\n",
    "            \"field\": \"oa_details.\" + year + \".is_oa\"\n",
    "          },\n",
    "          \"aggs\": {\n",
    "              \"by_has_grant\": {\n",
    "                  \"terms\": {\n",
    "                      \"field\": \"has_grant\"\n",
    "                  }\n",
    "              }\n",
    "          }\n",
    "        }\n",
    "      }\n",
    "    }\n",
    "  }\n",
    "}\n",
    "\n",
    "requests.get(url, json=params, headers=header).json()['aggregations']"
   ]
  },
  {
   "cell_type": "markdown",
   "metadata": {},
   "source": [
    "treemap (par agence)"
   ]
  },
  {
   "cell_type": "code",
   "execution_count": null,
   "metadata": {},
   "outputs": [],
   "source": [
    "year = \"2021Q1\" #latest\n",
    "params = {\n",
    "  \"aggs\": {\n",
    "    \"by_grant_agency\": {\n",
    "      \"terms\": {\n",
    "        \"field\": \"grants.agency.keyword\"\n",
    "      },\n",
    "      \"aggs\": {\n",
    "        \"by_oa_host_type\": {\n",
    "          \"terms\": {\n",
    "            \"field\": \"oa_details.\" + year + \".oa_host_type.keyword\"\n",
    "          }\n",
    "        }\n",
    "      }\n",
    "    }\n",
    "  }\n",
    "}\n",
    "\n",
    "requests.get(url, json=params, headers=header).json()['aggregations']"
   ]
  },
  {
   "cell_type": "markdown",
   "metadata": {},
   "source": [
    "### 1.1.7 COI <a class=\"anchor\" id=\"coi\"></a>"
   ]
  },
  {
   "cell_type": "code",
   "execution_count": null,
   "metadata": {},
   "outputs": [],
   "source": [
    "year = \"2021Q1\" #latest\n",
    "params = {\n",
    "  \"aggs\": {\n",
    "    \"by_publication_year\": {\n",
    "      \"terms\": {\n",
    "        \"field\": \"publication_year\"\n",
    "      },\n",
    "      \"aggs\": {\n",
    "        \"by_has_coi\": {\n",
    "          \"terms\": {\n",
    "            \"field\": \"has_coi\"\n",
    "          }\n",
    "        }\n",
    "      }\n",
    "    }\n",
    "  }\n",
    "}\n",
    "\n",
    "requests.get(url, json=params, headers=header).json()['aggregations']"
   ]
  },
  {
   "cell_type": "markdown",
   "metadata": {},
   "source": [
    "## 1.2 Disciplines <a class=\"anchor\" id=\"publi_disciplines\"></a>"
   ]
  },
  {
   "cell_type": "markdown",
   "metadata": {},
   "source": [
    "### 1.2.1 Dynamique par discipline  <a class=\"anchor\" id=\"dynamique_ouverture_disciplines\"></a>"
   ]
  },
  {
   "cell_type": "code",
   "execution_count": null,
   "metadata": {},
   "outputs": [],
   "source": [
    "year = \"2021Q1\" # et aussi tous les \"millésimes\" 2018, 2019, 2020\n",
    "params = {\n",
    "  \"aggs\": {\n",
    "    \"by_discipline\": {\n",
    "      \"terms\": {\n",
    "        \"field\": \"bsso_fields.keyword\"\n",
    "      },\n",
    "      \"aggs\": {\n",
    "        \"by_publication_year\": {\n",
    "          \"terms\": {\n",
    "            \"field\": \"publication_year\"\n",
    "          },\n",
    "          \"aggs\": {\n",
    "            \"by_is_oa\": {\n",
    "              \"terms\": {\n",
    "                \"field\": \"oa_details.\" + year + \".is_oa\"\n",
    "              }\n",
    "            }\n",
    "          }\n",
    "        }\n",
    "      }\n",
    "    }\n",
    "  }\n",
    "}\n",
    "\n",
    "requests.get(url, json=params, headers=header).json()['aggregations']"
   ]
  },
  {
   "cell_type": "markdown",
   "metadata": {},
   "source": [
    "### 1.2.2 Voie d'ouverture par discipline  <a class=\"anchor\" id=\"voie_ouverture_disciplines\"></a>"
   ]
  },
  {
   "cell_type": "code",
   "execution_count": null,
   "metadata": {},
   "outputs": [],
   "source": [
    "year = \"2021Q1\" # et aussi tous les \"millésimes\" 2018, 2019, 2020\n",
    "params = {\n",
    "  \"aggs\": {\n",
    "    \"by_publication_year\": {\n",
    "      \"terms\": {\n",
    "        \"field\": \"publication_year\"\n",
    "      },\n",
    "      \"aggs\": {\n",
    "        \"by_oa_host_type\": {\n",
    "          \"terms\": {\n",
    "            \"field\": \"oa_details.\" + year + \".oa_host_type.keyword\"\n",
    "          },\n",
    "          \"aggs\": {\n",
    "            \"by_discipline\": {\n",
    "              \"terms\": {\n",
    "                \"field\": \"bsso_fields.keyword\"\n",
    "              }\n",
    "            }\n",
    "          }\n",
    "        }\n",
    "      }\n",
    "    }\n",
    "  }\n",
    "}\n",
    "\n",
    "requests.get(url, json=params, headers=header).json()['aggregations']"
   ]
  },
  {
   "cell_type": "markdown",
   "metadata": {},
   "source": [
    "## 1.3 Editeurs <a class=\"anchor\" id=\"publi_editeurs\"></a>"
   ]
  },
  {
   "cell_type": "markdown",
   "metadata": {},
   "source": [
    "### 1.3.1 Dynamique pour editeurs  <a class=\"anchor\" id=\"dynamique_ouverture_editeurs\"></a>"
   ]
  },
  {
   "cell_type": "code",
   "execution_count": null,
   "metadata": {},
   "outputs": [],
   "source": [
    "year = \"2021Q1\" # et aussi tous les \"millésimes\" 2018, 2019, 2020\n",
    "params = {\n",
    "  \"query\": {\n",
    "    \"bool\": {\n",
    "      \"filter\": [\n",
    "        { \"term\": { \"oa_details.\" + year + \".oa_host_type\": \"publisher\"   }} # ATTENTION pas de .keyword ici pour avoir publisher et publisher;repository\n",
    "       # ,{ \"term\": { \"publisher.keyword\": \"Elsevier BV\"   }} ## pour un éditeur donné\n",
    "      ]\n",
    "    }\n",
    "  },\n",
    "  \"aggs\": {\n",
    "    \"by_publication_year\": {\n",
    "      \"terms\": {\n",
    "        \"field\": \"publication_year\"\n",
    "      },\n",
    "      \"aggs\": {\n",
    "        \"by_is_oa\": {\n",
    "          \"terms\": {\n",
    "            \"field\": \"oa_details.\" + year + \".is_oa\"\n",
    "          }\n",
    "        }\n",
    "      }\n",
    "    }\n",
    "  }\n",
    "}\n",
    "\n",
    "requests.get(url, json=params, headers=header).json()['aggregations']"
   ]
  },
  {
   "cell_type": "markdown",
   "metadata": {},
   "source": [
    "### 1.3.2 Voie d'ouverture pour editeurs <a class=\"anchor\" id=\"voie_ouverture_editeurs\"></a>\n"
   ]
  },
  {
   "cell_type": "code",
   "execution_count": null,
   "metadata": {},
   "outputs": [],
   "source": [
    "year = \"2021Q1\" # et aussi tous les \"millésimes\" 2018, 2019, 2020\n",
    "params = {\n",
    "  \"query\": {\n",
    "    \"bool\": {\n",
    "      \"filter\": [\n",
    "        { \"term\": { \"oa_details.\" + year + \".oa_host_type\": \"publisher\"   }} # ATTENTION pas de .keyword ici pour avoir publisher et publisher;repository\n",
    "       # ,{ \"term\": { \"publisher.keyword\": \"Elsevier BV\"   }} ## pour un éditeur donné\n",
    "      ]\n",
    "    }\n",
    "  },\n",
    "  \"aggs\": {\n",
    "    \"by_publication_year\": {\n",
    "      \"terms\": {\n",
    "        \"field\": \"publication_year\"\n",
    "      },\n",
    "      \"aggs\": {\n",
    "        \"by_oa_colors\": {\n",
    "          \"terms\": {\n",
    "            \"field\": \"oa_details.\" + year + \".oa_colors.keyword\"\n",
    "          }\n",
    "        }\n",
    "      }\n",
    "    }\n",
    "  }\n",
    "}\n",
    "\n",
    "requests.get(url, json=params, headers=header).json()['aggregations']"
   ]
  },
  {
   "cell_type": "markdown",
   "metadata": {},
   "source": [
    "### 1.3.3 Politique d'ouverture par editeur <a class=\"anchor\" id=\"politique_ouverture_editeurs\"></a>"
   ]
  },
  {
   "cell_type": "code",
   "execution_count": null,
   "metadata": {},
   "outputs": [],
   "source": [
    "year = \"2021Q1\" # et aussi tous les \"millésimes\" 2018, 2019, 2020\n",
    "params = {\n",
    "  \"query\": {\n",
    "    \"bool\": {\n",
    "      \"filter\": [\n",
    "     #   { \"term\": { \"oa_details.\" + year + \".oa_host_type\": \"publisher\"   }} # ATTENTION pas de .keyword ici pour avoir publisher et publisher;repository\n",
    "       { \"term\": { \"publication_year\": 2020   }} ## pour une publication year donnée\n",
    "      ]\n",
    "    }\n",
    "  },\n",
    "  \"aggs\": {\n",
    "    \"by_publisher\": {\n",
    "      \"terms\": {\n",
    "        \"field\": \"publisher.keyword\"\n",
    "      },\n",
    "      \"aggs\": {\n",
    "        \"by_oa_color\": {\n",
    "          \"terms\": {\n",
    "            \"field\": \"oa_details.\" + year + \".oa_colors.keyword\"\n",
    "          }\n",
    "        }\n",
    "      }\n",
    "    }\n",
    "  }\n",
    "}\n",
    "\n",
    "requests.get(url, json=params, headers=header).json()['aggregations']"
   ]
  },
  {
   "cell_type": "markdown",
   "metadata": {},
   "source": [
    "### 1.3.4 Poids des revues prédatrices <a class=\"anchor\" id=\"predateur\"></a>"
   ]
  },
  {
   "cell_type": "code",
   "execution_count": null,
   "metadata": {},
   "outputs": [],
   "source": [
    "year = \"2021Q1\" # et aussi tous les \"millésimes\" 2018, 2019, 2020\n",
    "params = {\n",
    "  \"aggs\": {\n",
    "    \"by_publication_year\": {\n",
    "      \"terms\": {\n",
    "        \"field\": \"publication_year\"\n",
    "      },\n",
    "      \"aggs\": {\n",
    "        \"by_predatory\": {\n",
    "          \"terms\": {\n",
    "            \"field\": \"predatory_journal\"\n",
    "          }\n",
    "        }\n",
    "      }\n",
    "    }\n",
    "  }\n",
    "}\n",
    "\n",
    "requests.get(url, json=params, headers=header).json()['aggregations']"
   ]
  },
  {
   "cell_type": "markdown",
   "metadata": {},
   "source": [
    "### 1.3.5 Licences <a class=\"anchor\" id=\"licence\"></a>\n"
   ]
  },
  {
   "cell_type": "markdown",
   "metadata": {},
   "source": [
    "global"
   ]
  },
  {
   "cell_type": "code",
   "execution_count": null,
   "metadata": {},
   "outputs": [],
   "source": [
    "year = \"2021Q1\" # et aussi tous les \"millésimes\" 2018, 2019, 2020\n",
    "params = {\n",
    "  \"query\": {\n",
    "    \"bool\": {\n",
    "      \"filter\": [\n",
    "     #   { \"term\": { \"oa_details.\" + year + \".oa_host_type\": \"publisher\"   }} # ATTENTION pas de .keyword ici pour avoir publisher et publisher;repository\n",
    "       { \"term\": { \"publication_year\": 2020   }} ## pour une publication year donnée\n",
    "    #  ,{ \"term\": { \"publisher.keyword\": \"Elsevier BV\"   }} ## pour un éditeur donné\n",
    "      ]\n",
    "    }\n",
    "  },\n",
    "  \"aggs\": {\n",
    "    \"by_licence\": {\n",
    "      \"terms\": {\n",
    "        \"field\": \"oa_details.\" + year + \".licence_publisher.keyword\"\n",
    "      }\n",
    "    }\n",
    "  }\n",
    "}\n",
    "\n",
    "requests.get(url, json=params, headers=header).json()['aggregations']"
   ]
  },
  {
   "cell_type": "markdown",
   "metadata": {},
   "source": [
    "par éditeur"
   ]
  },
  {
   "cell_type": "code",
   "execution_count": null,
   "metadata": {},
   "outputs": [],
   "source": [
    "year = \"2021Q1\" # et aussi tous les \"millésimes\" 2018, 2019, 2020\n",
    "params = {\n",
    "  \"query\": {\n",
    "    \"bool\": {\n",
    "      \"filter\": [\n",
    "     #   { \"term\": { \"oa_details.\" + year + \".oa_host_type\": \"publisher\"   }} # ATTENTION pas de .keyword ici pour avoir publisher et publisher;repository\n",
    "       { \"term\": { \"publication_year\": 2020   }} ## pour une publication year donnée\n",
    "      ]\n",
    "    }\n",
    "  },\n",
    "  \"aggs\": {\n",
    "    \"by_publisher\": {\n",
    "      \"terms\": {\n",
    "        \"field\": \"publisher.keyword\"\n",
    "      },\n",
    "      \"aggs\": {\n",
    "        \"by_licence\": {\n",
    "          \"terms\": {\n",
    "            \"field\": \"oa_details.\" + year + \".licence_publisher.keyword\"\n",
    "          }\n",
    "        }\n",
    "      }\n",
    "    }\n",
    "  }\n",
    "}\n",
    "\n",
    "requests.get(url, json=params, headers=header).json()['aggregations']"
   ]
  },
  {
   "cell_type": "markdown",
   "metadata": {},
   "source": [
    "### 1.3.6 APC <a class=\"anchor\" id=\"apc\"></a>\n"
   ]
  },
  {
   "cell_type": "markdown",
   "metadata": {},
   "source": [
    "somme des apc par an"
   ]
  },
  {
   "cell_type": "code",
   "execution_count": null,
   "metadata": {},
   "outputs": [],
   "source": [
    "year = \"2021Q1\" # et aussi tous les \"millésimes\" 2018, 2019, 2020\n",
    "params = {\n",
    "\n",
    "  \"aggs\": {\n",
    "    \"by_publication_year\": {\n",
    "      \"terms\": {\n",
    "        \"field\": \"publication_year\"\n",
    "      },\n",
    "      \"aggs\": {\n",
    "        \"apc\": {\n",
    "          \"sum\": {\n",
    "            \"field\": \"amount_apc_EUR\"\n",
    "          }\n",
    "        }\n",
    "      }\n",
    "    }\n",
    "  }\n",
    "}\n",
    "\n",
    "requests.get(url, json=params, headers=header).json()['aggregations']"
   ]
  },
  {
   "cell_type": "markdown",
   "metadata": {},
   "source": [
    "distribution des tarifs"
   ]
  },
  {
   "cell_type": "code",
   "execution_count": null,
   "metadata": {},
   "outputs": [],
   "source": [
    "year = \"2021Q1\" # et aussi tous les \"millésimes\" 2018, 2019, 2020\n",
    "params = {\n",
    "    \n",
    "\"query\": {\n",
    "    \"bool\": {\n",
    "      \"filter\": [\n",
    "  #  { \"term\": { \"publisher.keyword\": \"Elsevier BV\"   }} ## pour un éditeur donné\n",
    "      ]\n",
    "    }\n",
    "  },\n",
    "\n",
    "  \"aggs\": {\n",
    "        \"tarif\": {\n",
    "          \"histogram\": {\n",
    "            \"field\": \"amount_apc_EUR\",\n",
    "            \"interval\": 250\n",
    "          }\n",
    "        }\n",
    "      }\n",
    "    }\n",
    "\n",
    "\n",
    "requests.get(url, json=params, headers=header).json()['aggregations']"
   ]
  },
  {
   "cell_type": "markdown",
   "metadata": {},
   "source": [
    "violin : 1. one request for density"
   ]
  },
  {
   "cell_type": "code",
   "execution_count": null,
   "metadata": {},
   "outputs": [],
   "source": [
    "year = \"2021Q1\" # et aussi tous les \"millésimes\" 2018, 2019, 2020\n",
    "params = {\n",
    "    \n",
    "\"query\": {\n",
    "    \"bool\": {\n",
    "      \"filter\": [\n",
    "  #  { \"term\": { \"publisher.keyword\": \"Elsevier BV\"   }} ## pour un éditeur donné\n",
    "      ]\n",
    "    }\n",
    "  },\n",
    "  \"aggs\": {\n",
    "    \"by_publication_year\": {\n",
    "      \"terms\": {\n",
    "        \"field\": \"publication_year\"\n",
    "      },\n",
    "      \"aggs\": {\n",
    "            \"tarif\": {\n",
    "              \"histogram\": {\n",
    "                \"field\": \"amount_apc_EUR\",\n",
    "                \"interval\": 250\n",
    "              }\n",
    "            }\n",
    "      }\n",
    "      }\n",
    "    }\n",
    "}\n",
    "\n",
    "\n",
    "requests.get(url, json=params, headers=header).json()['aggregations']"
   ]
  },
  {
   "cell_type": "markdown",
   "metadata": {},
   "source": [
    "violin : second request for percentiles"
   ]
  },
  {
   "cell_type": "code",
   "execution_count": null,
   "metadata": {},
   "outputs": [],
   "source": [
    "year = \"2021Q1\" # et aussi tous les \"millésimes\" 2018, 2019, 2020\n",
    "params = {\n",
    "    \n",
    "\"query\": {\n",
    "    \"bool\": {\n",
    "      \"filter\": [\n",
    "  #  { \"term\": { \"publisher.keyword\": \"Elsevier BV\"   }} ## pour un éditeur donné\n",
    "      ]\n",
    "    }\n",
    "  },\n",
    "  \"aggs\": {\n",
    "    \"by_publication_year\": {\n",
    "      \"terms\": {\n",
    "        \"field\": \"publication_year\"\n",
    "      },\n",
    "      \"aggs\": {\n",
    "            \"tarif_percentiles\": {\n",
    "              \"percentiles\": {\n",
    "                \"field\": \"amount_apc_EUR\"\n",
    "              }\n",
    "            }\n",
    "      }\n",
    "      }\n",
    "    }\n",
    "}\n",
    "\n",
    "\n",
    "requests.get(url, json=params, headers=header).json()['aggregations']"
   ]
  },
  {
   "cell_type": "markdown",
   "metadata": {},
   "source": [
    "## 1.4 Les archives"
   ]
  },
  {
   "cell_type": "markdown",
   "metadata": {},
   "source": [
    "### 1.4.1 Quelle est la dynamique d’ouverture de la santé parmi les archives ?"
   ]
  },
  {
   "cell_type": "code",
   "execution_count": null,
   "metadata": {},
   "outputs": [],
   "source": [
    "year = \"2021Q1\" # et aussi tous les \"millésimes\" 2018, 2019, 2020\n",
    "params = {\n",
    "  \"size\": 0,\n",
    "  \"query\": {\n",
    "    \"bool\": {\n",
    "      \"filter\": [{\n",
    "        \"term\": {\n",
    "          \"oa_details.\" + year + \".oa_host_type\": \"repository\"\n",
    "        }\n",
    "      }]\n",
    "    }\n",
    "  },\n",
    "  \"aggs\": {\n",
    "    \"by_publication_year\": {\n",
    "      \"terms\": {\n",
    "        \"field\": \"publication_year\"\n",
    "      }\n",
    "    }\n",
    "  }\n",
    "}\n",
    "\n",
    "requests.get(url, json=params, headers=header).json()['aggregations']['by_publication_year']['buckets']"
   ]
  },
  {
   "cell_type": "markdown",
   "metadata": {},
   "source": [
    "_Question : pourquoi `oa_details` n'est pas un simple tableau d'objects avec un champ \"millésime\" (ou autre) afin de pouvoir faire une aggrégation sur ce champ et donc faire une grosse requête plutôt qu'une requête par millésime ?_ "
   ]
  },
  {
   "cell_type": "code",
   "execution_count": null,
   "metadata": {},
   "outputs": [],
   "source": [
    "### 1.4.2 Quelles archives ouvertes sont les plus utilisées en santé ?"
   ]
  },
  {
   "cell_type": "code",
   "execution_count": null,
   "metadata": {},
   "outputs": [],
   "source": [
    "year = \"2021Q1\" # et aussi tous les \"millésimes\" 2018, 2019, 2020\n",
    "params = {\n",
    "  \"size\": 0,\n",
    "  \"query\": {\n",
    "    \"bool\": {\n",
    "      \"filter\": [{\n",
    "        \"term\": {\n",
    "          \"oa_details.\" + year + \".oa_host_type\": \"repository\"\n",
    "        }\n",
    "      }]\n",
    "    }\n",
    "  },\n",
    "  \"aggs\": {\n",
    "    \"by_repository\": {\n",
    "      \"terms\": {\n",
    "        \"field\": \"oa_details.\" + year + \".repositories.keyword\",\n",
    "        \"missing\": \"MISSING\",\n",
    "        \"size\": AGG_SIZE\n",
    "      }\n",
    "    }\n",
    "  }\n",
    "}\n",
    "\n",
    "requests.get(url, json=params, headers=header).json()['aggregations']['by_repository']['buckets']"
   ]
  },
  {
   "cell_type": "code",
   "execution_count": null,
   "metadata": {},
   "outputs": [],
   "source": [
    "_Erreur : Pour certaines publications, il manque le champ \"oa_details.year.repositories.keyword\". ex: https://cluster.elasticsearch.dataesr.ovh/bsso-publications/_search?q=_id:1573. `{'key': 'MISSING', 'doc_count': 257}`_\n",
    "=> Ca devrait être réparé prochainement"
   ]
  },
  {
   "cell_type": "code",
   "execution_count": null,
   "metadata": {},
   "outputs": [],
   "source": [
    "### 1.4.3 Quelle est la dynamique de dépôt par archive ouverte en santé ?"
   ]
  },
  {
   "cell_type": "code",
   "execution_count": null,
   "metadata": {},
   "outputs": [],
   "source": [
    "year = \"2021Q1\"\n",
    "params = {\n",
    "  \"size\": 0,\n",
    "  \"query\": {\n",
    "    \"bool\": {\n",
    "      \"filter\": [{\n",
    "        \"term\": {\n",
    "          \"oa_details.\" + year + \".oa_host_type\": \"repository\"\n",
    "        }\n",
    "      }]\n",
    "    }\n",
    "  },\n",
    "  \"aggs\": {\n",
    "    \"by_discipline\": {\n",
    "      \"terms\": {\n",
    "        \"field\": \"oa_details.\" + year + \".repositories.keyword\",\n",
    "        \"missing\": \"MISSING\",\n",
    "        \"size\": AGG_SIZE\n",
    "      },\n",
    "      \"aggs\": {\n",
    "        \"by_publication_year\": {\n",
    "          \"terms\": {\n",
    "            \"field\": \"publication_year\"\n",
    "          }\n",
    "        }\n",
    "      }\n",
    "    }\n",
    "  }\n",
    "}\n",
    "\n",
    "requests.get(url, json=params, headers=header).json()['aggregations']['by_discipline']['buckets']"
   ]
  },
  {
   "cell_type": "code",
   "execution_count": null,
   "metadata": {},
   "outputs": [],
   "source": [
    "_Question : Cette requête est basée sur le millésime \"2021Q1\". Est-ce bien la façon dont ce graphe a été créé ?_"
   ]
  },
  {
   "cell_type": "code",
   "execution_count": null,
   "metadata": {},
   "outputs": [],
   "source": [
    "### 1.4.4 Quelle place occupe HAL dans la dynamique des archives ouvertes en santé ?"
   ]
  },
  {
   "cell_type": "code",
   "execution_count": null,
   "metadata": {},
   "outputs": [],
   "source": [
    "year = \"2021Q1\" # et aussi tous les \"millésimes\" 2018, 2019, 2020\n",
    "params = {\n",
    "  \"size\": 0,\n",
    "  \"query\": {\n",
    "    \"bool\": {\n",
    "      \"filter\": [{\n",
    "        \"term\": {\n",
    "          \"oa_details.\" + year + \".oa_host_type\": \"repository\"\n",
    "        }\n",
    "      }]\n",
    "    }\n",
    "  },\n",
    "  \"aggs\": {\n",
    "    \"by_discipline\": {\n",
    "      \"terms\": {\n",
    "        \"field\": \"oa_details.\" + year + \".repositories.keyword\",\n",
    "        \"missing\": \"MISSING\",\n",
    "        \"size\": AGG_SIZE\n",
    "      }\n",
    "    }\n",
    "  }\n",
    "}\n",
    "\n",
    "requests.get(url, json=params, headers=header).json()['aggregations']['by_discipline']['buckets']"
   ]
  },
  {
   "cell_type": "code",
   "execution_count": null,
   "metadata": {},
   "outputs": [],
   "source": [
    "_Idée : Should post process to group / sum all repositories other than 'HAL'_"
   ]
  },
  {
   "cell_type": "code",
   "execution_count": null,
   "metadata": {},
   "outputs": [],
   "source": [
    "## 1.5 Les affiliations"
   ]
  },
  {
   "cell_type": "code",
   "execution_count": null,
   "metadata": {},
   "outputs": [],
   "source": [
    "### 1.5.1 Taux d’ouverture des publications françaises, dans le domaine de la santé, par millésime tous types d’établissements confondus"
   ]
  },
  {
   "cell_type": "code",
   "execution_count": null,
   "metadata": {},
   "outputs": [],
   "source": [
    "year = \"2021Q1\" # et aussi tous les \"millésimes\" 2018, 2019, 2020\n",
    "filter = '*' # *, university, hospital, cnrs, inserm\n",
    "params = {\n",
    "  \"size\": 0,\n",
    "  \"query\": {\n",
    "    \"bool\": {\n",
    "      \"filter\": [{\n",
    "        \"wildcard\": {\n",
    "          \"french_affiliations_types\": filter\n",
    "        }\n",
    "      }]\n",
    "    }\n",
    "  },\n",
    "  \"aggs\": {\n",
    "    \"by_publication_year\": {\n",
    "      \"terms\": {\n",
    "        \"field\": \"publication_year\"\n",
    "      },\n",
    "      \"aggs\": {\n",
    "        \"by_is_oa\": {\n",
    "          \"terms\": {\n",
    "            \"field\": \"oa_details.\" + year + \".is_oa\"\n",
    "          }\n",
    "        }\n",
    "      }\n",
    "    }\n",
    "  }\n",
    "}\n",
    "\n",
    "requests.get(url, json=params, headers=header).json()['aggregations']['by_publication_year']['buckets']"
   ]
  },
  {
   "cell_type": "code",
   "execution_count": null,
   "metadata": {},
   "outputs": [],
   "source": [
    "### 1.5.2 Evolution du taux d’ouverture des publications en santé par types d’établissement entre millésimes (Les données ne sont pas encore prêtes)"
   ]
  },
  {
   "cell_type": "code",
   "execution_count": null,
   "metadata": {},
   "outputs": [],
   "source": [
    "### 1.5.3 Quel impact le pays d’affiliation des auteurs a-t-il sur le taux d’ouverture en santé ?"
   ]
  },
  {
   "cell_type": "code",
   "execution_count": null,
   "metadata": {},
   "outputs": [],
   "source": [
    "year = \"2021Q1\" # et aussi tous les \"millésimes\" 2018, 2019, 2020\n",
    "params = {\n",
    "  \"size\": 0,\n",
    "  \"aggs\": {\n",
    "    \"by_publication_year\": {\n",
    "      \"terms\": {\n",
    "        \"field\": \"publication_year\"\n",
    "      },\n",
    "      \"aggs\": {\n",
    "        \"by_author_useful_rank_fr\": {\n",
    "          \"terms\": {\n",
    "            \"field\": \"author_useful_rank_fr\"\n",
    "          },\n",
    "          \"aggs\": {\n",
    "            \"by_is_oa\": {\n",
    "              \"terms\": {\n",
    "                \"field\": \"oa_details.\" + year + \".is_oa\"\n",
    "              }\n",
    "            }\n",
    "          }\n",
    "        }\n",
    "      }\n",
    "    }\n",
    "  }\n",
    "}\n",
    "\n",
    "requests.get(url, json=params, headers=header).json()['aggregations']['by_publication_year']['buckets']"
   ]
  },
  {
   "cell_type": "code",
   "execution_count": null,
   "metadata": {},
   "outputs": [],
   "source": [
    "### 1.5.4 Classement des 10 pays d'affiliation des auteurs de rang utile avec lesquels la France collabore le plus, selon le taux d’accès ouvert de leurs publications en santé "
   ]
  },
  {
   "cell_type": "code",
   "execution_count": null,
   "metadata": {},
   "outputs": [],
   "source": [
    "year = \"2021Q1\" # et aussi tous les \"millésimes\" 2018, 2019, 2020\n",
    "params = {\n",
    "  \"size\": 0,\n",
    "  \"query\": {\n",
    "    \"bool\": {\n",
    "      \"filter\": [{\n",
    "        \"term\": {\n",
    "          \"author_useful_rank_fr\": \"true\"\n",
    "        }\n",
    "      }, {\n",
    "        \"term\": {\n",
    "          \"oa_details.\" + year + \".is_oa\": \"true\"\n",
    "        }\n",
    "      }]\n",
    "    }\n",
    "  },\n",
    "  \"aggs\": {\n",
    "    \"by_country\": {\n",
    "      \"terms\": {\n",
    "        \"field\": \"affiliations.countries.keyword\",\n",
    "        \"exclude\": \"FR\",\n",
    "        \"size\": AGG_SIZE,\n",
    "      }\n",
    "    }\n",
    "  }\n",
    "}\n",
    "\n",
    "requests.get(url, json=params, headers=header).json()['aggregations']['by_country']['buckets']"
   ]
  },
  {
   "cell_type": "code",
   "execution_count": null,
   "metadata": {},
   "outputs": [],
   "source": []
  }
 ],
 "metadata": {
  "kernelspec": {
   "display_name": "Python 3",
   "language": "python",
   "name": "python3"
  },
  "language_info": {
   "codemirror_mode": {
    "name": "ipython",
    "version": 3
   },
   "file_extension": ".py",
   "mimetype": "text/x-python",
   "name": "python",
   "nbconvert_exporter": "python",
   "pygments_lexer": "ipython3",
   "version": "3.6.13"
  }
 },
 "nbformat": 4,
 "nbformat_minor": 2
}
