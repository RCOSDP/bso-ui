{
 "cells": [
  {
   "cell_type": "code",
   "execution_count": 1,
   "metadata": {},
   "outputs": [],
   "source": [
    "import requests"
   ]
  },
  {
   "cell_type": "code",
   "execution_count": 8,
   "metadata": {},
   "outputs": [],
   "source": [
    "url = \"https://cluster.elasticsearch.dataesr.ovh/bso-clinical-trials/_search\"\n",
    "headers = { \"Authorization\": open(\"../../.env_es_bsso\", \"r\").read().strip() }\n",
    "AGG_SIZE = 15\n"
   ]
  },
  {
   "cell_type": "markdown",
   "metadata": {},
   "source": [
    "### Sommaire\n",
    "\n",
    "* [2. Essais cliniques](#publications)\n",
    "    * [2.1. Général](#publi_general)\n",
    "        * [2.1.1. Quelle est la dynamique dd'ouverture des essais ?](#dynamique_ouverture)\n",
    "        * [2.1.2. Quelles sont les trajectoires des essais ?](#trajectoires)"
   ]
  },
  {
   "cell_type": "markdown",
   "metadata": {},
   "source": [
    "# 2. Essais cliniques <a class=\"anchor\" id=\"publications\"></a>"
   ]
  },
  {
   "cell_type": "markdown",
   "metadata": {},
   "source": [
    "## 2.1. Général <a class=\"anchor\" id=\"publi_general\"></a>"
   ]
  },
  {
   "cell_type": "markdown",
   "metadata": {},
   "source": [
    "### 2.1.1. Quelle est la dynamique d’ouverture des essais ? <a class=\"anchor\" id=\"dynamique_ouverture\"></a>"
   ]
  },
  {
   "cell_type": "code",
   "execution_count": 19,
   "metadata": {},
   "outputs": [
    {
     "data": {
      "text/plain": [
       "[{'key': 2019.0,\n",
       "  'doc_count': 1566,\n",
       "  'by_has_results': {'doc_count_error_upper_bound': 0,\n",
       "   'sum_other_doc_count': 0,\n",
       "   'buckets': [{'key': 0, 'key_as_string': 'false', 'doc_count': 1548},\n",
       "    {'key': 1, 'key_as_string': 'true', 'doc_count': 18}]}},\n",
       " {'key': 2018.0,\n",
       "  'doc_count': 1512,\n",
       "  'by_has_results': {'doc_count_error_upper_bound': 0,\n",
       "   'sum_other_doc_count': 0,\n",
       "   'buckets': [{'key': 0, 'key_as_string': 'false', 'doc_count': 1437},\n",
       "    {'key': 1, 'key_as_string': 'true', 'doc_count': 75}]}},\n",
       " {'key': 2015.0,\n",
       "  'doc_count': 1470,\n",
       "  'by_has_results': {'doc_count_error_upper_bound': 0,\n",
       "   'sum_other_doc_count': 0,\n",
       "   'buckets': [{'key': 0, 'key_as_string': 'false', 'doc_count': 1151},\n",
       "    {'key': 1, 'key_as_string': 'true', 'doc_count': 319}]}},\n",
       " {'key': 2020.0,\n",
       "  'doc_count': 1443,\n",
       "  'by_has_results': {'doc_count_error_upper_bound': 0,\n",
       "   'sum_other_doc_count': 0,\n",
       "   'buckets': [{'key': 0, 'key_as_string': 'false', 'doc_count': 1439},\n",
       "    {'key': 1, 'key_as_string': 'true', 'doc_count': 4}]}},\n",
       " {'key': 2017.0,\n",
       "  'doc_count': 1422,\n",
       "  'by_has_results': {'doc_count_error_upper_bound': 0,\n",
       "   'sum_other_doc_count': 0,\n",
       "   'buckets': [{'key': 0, 'key_as_string': 'false', 'doc_count': 1258},\n",
       "    {'key': 1, 'key_as_string': 'true', 'doc_count': 164}]}},\n",
       " {'key': 2016.0,\n",
       "  'doc_count': 1378,\n",
       "  'by_has_results': {'doc_count_error_upper_bound': 0,\n",
       "   'sum_other_doc_count': 0,\n",
       "   'buckets': [{'key': 0, 'key_as_string': 'false', 'doc_count': 1184},\n",
       "    {'key': 1, 'key_as_string': 'true', 'doc_count': 194}]}},\n",
       " {'key': 2014.0,\n",
       "  'doc_count': 1329,\n",
       "  'by_has_results': {'doc_count_error_upper_bound': 0,\n",
       "   'sum_other_doc_count': 0,\n",
       "   'buckets': [{'key': 0, 'key_as_string': 'false', 'doc_count': 1015},\n",
       "    {'key': 1, 'key_as_string': 'true', 'doc_count': 314}]}},\n",
       " {'key': 2013.0,\n",
       "  'doc_count': 1252,\n",
       "  'by_has_results': {'doc_count_error_upper_bound': 0,\n",
       "   'sum_other_doc_count': 0,\n",
       "   'buckets': [{'key': 0, 'key_as_string': 'false', 'doc_count': 955},\n",
       "    {'key': 1, 'key_as_string': 'true', 'doc_count': 297}]}},\n",
       " {'key': 2012.0,\n",
       "  'doc_count': 1161,\n",
       "  'by_has_results': {'doc_count_error_upper_bound': 0,\n",
       "   'sum_other_doc_count': 0,\n",
       "   'buckets': [{'key': 0, 'key_as_string': 'false', 'doc_count': 832},\n",
       "    {'key': 1, 'key_as_string': 'true', 'doc_count': 329}]}},\n",
       " {'key': 2011.0,\n",
       "  'doc_count': 1095,\n",
       "  'by_has_results': {'doc_count_error_upper_bound': 0,\n",
       "   'sum_other_doc_count': 0,\n",
       "   'buckets': [{'key': 0, 'key_as_string': 'false', 'doc_count': 746},\n",
       "    {'key': 1, 'key_as_string': 'true', 'doc_count': 349}]}}]"
      ]
     },
     "execution_count": 19,
     "metadata": {},
     "output_type": "execute_result"
    }
   ],
   "source": [
    "# manque l'aggreg par type de lead sponsor\n",
    "json = {\n",
    "  \"size\": 0,\n",
    "  \"query\": {\n",
    "    \"bool\": {\n",
    "      \"filter\": [{\n",
    "        \"term\": {\n",
    "          \"study_type.keyword\": \"Interventional\"\n",
    "        }\n",
    "      }]\n",
    "    }\n",
    "  },\n",
    "  \"aggs\": {\n",
    "    \"by_year\": {\n",
    "      \"terms\": {\n",
    "        \"field\": \"study_start_year\"\n",
    "      },\n",
    "      \"aggs\": {\n",
    "        \"by_has_results\": {\n",
    "          \"terms\": {\n",
    "            \"field\": \"has_results\" # has_results_or_publications\n",
    "          }\n",
    "        }\n",
    "      }\n",
    "    }\n",
    "  }\n",
    "}\n",
    "\n",
    "requests.post(url, json=json, headers=headers).json()['aggregations']['by_year']['buckets']"
   ]
  },
  {
   "cell_type": "code",
   "execution_count": 23,
   "metadata": {},
   "outputs": [],
   "source": [
    "### 2.1.2. Quelles sont les trajectoires? <a class=\"anchor\" id=\"trajectoire\"></a>"
   ]
  },
  {
   "cell_type": "code",
   "execution_count": 20,
   "metadata": {},
   "outputs": [
    {
     "data": {
      "text/plain": [
       "[{'key': 'Completed',\n",
       "  'doc_count': 10876,\n",
       "  'by_has_results': {'doc_count_error_upper_bound': 0,\n",
       "   'sum_other_doc_count': 0,\n",
       "   'buckets': [{'key': 0, 'key_as_string': 'false', 'doc_count': 7435},\n",
       "    {'key': 1, 'key_as_string': 'true', 'doc_count': 3441}]}},\n",
       " {'key': 'Recruiting',\n",
       "  'doc_count': 3948,\n",
       "  'by_has_results': {'doc_count_error_upper_bound': 0,\n",
       "   'sum_other_doc_count': 0,\n",
       "   'buckets': [{'key': 0, 'key_as_string': 'false', 'doc_count': 3946},\n",
       "    {'key': 1, 'key_as_string': 'true', 'doc_count': 2}]}},\n",
       " {'key': 'Ongoing',\n",
       "  'doc_count': 2464,\n",
       "  'by_has_results': {'doc_count_error_upper_bound': 0,\n",
       "   'sum_other_doc_count': 0,\n",
       "   'buckets': [{'key': 0, 'key_as_string': 'false', 'doc_count': 1718},\n",
       "    {'key': 1, 'key_as_string': 'true', 'doc_count': 746}]}},\n",
       " {'key': 'Unknown status',\n",
       "  'doc_count': 2047,\n",
       "  'by_has_results': {'doc_count_error_upper_bound': 0,\n",
       "   'sum_other_doc_count': 0,\n",
       "   'buckets': [{'key': 0, 'key_as_string': 'false', 'doc_count': 2042},\n",
       "    {'key': 1, 'key_as_string': 'true', 'doc_count': 5}]}},\n",
       " {'key': 'Terminated',\n",
       "  'doc_count': 1833,\n",
       "  'by_has_results': {'doc_count_error_upper_bound': 0,\n",
       "   'sum_other_doc_count': 0,\n",
       "   'buckets': [{'key': 0, 'key_as_string': 'false', 'doc_count': 1278},\n",
       "    {'key': 1, 'key_as_string': 'true', 'doc_count': 555}]}},\n",
       " {'key': 'Active, not recruiting',\n",
       "  'doc_count': 1417,\n",
       "  'by_has_results': {'doc_count_error_upper_bound': 0,\n",
       "   'sum_other_doc_count': 0,\n",
       "   'buckets': [{'key': 0, 'key_as_string': 'false', 'doc_count': 1145},\n",
       "    {'key': 1, 'key_as_string': 'true', 'doc_count': 272}]}},\n",
       " {'key': 'Not yet recruiting',\n",
       "  'doc_count': 741,\n",
       "  'by_has_results': {'doc_count_error_upper_bound': 0,\n",
       "   'sum_other_doc_count': 0,\n",
       "   'buckets': [{'key': 0, 'key_as_string': 'false', 'doc_count': 741}]}},\n",
       " {'key': 'Withdrawn',\n",
       "  'doc_count': 186,\n",
       "  'by_has_results': {'doc_count_error_upper_bound': 0,\n",
       "   'sum_other_doc_count': 0,\n",
       "   'buckets': [{'key': 0, 'key_as_string': 'false', 'doc_count': 186}]}},\n",
       " {'key': '',\n",
       "  'doc_count': 158,\n",
       "  'by_has_results': {'doc_count_error_upper_bound': 0,\n",
       "   'sum_other_doc_count': 0,\n",
       "   'buckets': [{'key': 0, 'key_as_string': 'false', 'doc_count': 128},\n",
       "    {'key': 1, 'key_as_string': 'true', 'doc_count': 30}]}},\n",
       " {'key': 'Prematurely Ended',\n",
       "  'doc_count': 142,\n",
       "  'by_has_results': {'doc_count_error_upper_bound': 0,\n",
       "   'sum_other_doc_count': 0,\n",
       "   'buckets': [{'key': 0, 'key_as_string': 'false', 'doc_count': 80},\n",
       "    {'key': 1, 'key_as_string': 'true', 'doc_count': 62}]}}]"
      ]
     },
     "execution_count": 20,
     "metadata": {},
     "output_type": "execute_result"
    }
   ],
   "source": [
    "# manque l'aggreg has_publications_result et has_publication_oa\n",
    "json = {\n",
    "  \"size\": 0,\n",
    "  \"query\": {\n",
    "    \"bool\": {\n",
    "      \"filter\": [{\n",
    "        \"term\": {\n",
    "          \"study_type.keyword\": \"Interventional\"\n",
    "        }\n",
    "      }]\n",
    "    }\n",
    "  },\n",
    "  \"aggs\": {\n",
    "    \"by_status\": {\n",
    "      \"terms\": {\n",
    "        \"field\": \"status.keyword\"\n",
    "      },\n",
    "      \"aggs\": {\n",
    "        \"by_has_results\": {\n",
    "          \"terms\": {\n",
    "            \"field\": \"has_results\"\n",
    "          }\n",
    "        }\n",
    "      }\n",
    "    }\n",
    "  }\n",
    "}\n",
    "\n",
    "requests.post(url, json=json, headers=headers).json()['aggregations']['by_status']['buckets']"
   ]
  },
  {
   "cell_type": "code",
   "execution_count": null,
   "metadata": {},
   "outputs": [],
   "source": []
  }
 ],
 "metadata": {
  "kernelspec": {
   "display_name": "Python 3",
   "language": "python",
   "name": "python3"
  },
  "language_info": {
   "codemirror_mode": {
    "name": "ipython",
    "version": 3
   },
   "file_extension": ".py",
   "mimetype": "text/x-python",
   "name": "python",
   "nbconvert_exporter": "python",
   "pygments_lexer": "ipython3",
   "version": "3.6.5"
  }
 },
 "nbformat": 4,
 "nbformat_minor": 2
}
